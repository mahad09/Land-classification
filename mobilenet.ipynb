{
 "cells": [
  {
   "cell_type": "code",
   "execution_count": null,
   "id": "universal-grave",
   "metadata": {},
   "outputs": [],
   "source": [
    "import numpy as np\n",
    "import pandas as pd\n",
    "import tensorflow as tf\n",
    "import tensorflow.keras as keras\n",
    "from keras.layers import Activation, Dense, Dropout, Flatten\n",
    "import os\n",
    "import matplotlib.pyplot as plt\n",
    "from sklearn.metrics import confusion_matrix, classification_report\n",
    "from tensorflow.keras.applications import MobileNet\n",
    "from tensorflow.keras.layers import Dense, BatchNormalization, Flatten, Activation, Dropout\n",
    "from tensorflow.keras.preprocessing.image import ImageDataGenerator\n",
    "from keras.models import Sequential\n",
    "from keras.layers import Dense, Conv2D, MaxPool2D, Flatten\n",
    "from keras.optimizers import Adam\n",
    "import seaborn as sns\n",
    "import datetime\n",
    "import pdb\n",
    "from skimage.io import imread, imsave\n",
    "from tqdm import tqdm\n",
    "import cv2"
   ]
  },
  {
   "cell_type": "code",
   "execution_count": null,
   "id": "registered-possibility",
   "metadata": {},
   "outputs": [],
   "source": [
    "TRAINING_DATA_DIR = 'dataset_1/train/'\n",
    "VALIDATION_DATA_DIR = 'dataset_1/validate/'\n",
    "\n",
    "IMG_HEIGHT = 128\n",
    "IMG_WIDTH = 128\n",
    "INPUT_SHAPE = (128, 128, 3)\n",
    "BATCH_SIZE = 64\n",
    "EPOCHS = 14\n",
    "NUM_OF_CLASSES = 21"
   ]
  },
  {
   "cell_type": "code",
   "execution_count": null,
   "id": "right-dividend",
   "metadata": {},
   "outputs": [],
   "source": [
    "def data_generators():\n",
    "  print('defining generators of training and validation sets...')\n",
    "  datagen = ImageDataGenerator(rescale=1./255)\n",
    "\n",
    "  train_data = datagen.flow_from_directory(\n",
    "    TRAINING_DATA_DIR, target_size=(IMG_WIDTH, IMG_HEIGHT), batch_size=BATCH_SIZE, class_mode='categorical')\n",
    "\n",
    "  validation_data = datagen.flow_from_directory(\n",
    "    VALIDATION_DATA_DIR, target_size=(IMG_WIDTH, IMG_HEIGHT), batch_size=BATCH_SIZE, class_mode='categorical')\n",
    "\n",
    "  return train_data, validation_data"
   ]
  },
  {
   "cell_type": "code",
   "execution_count": null,
   "id": "stretch-indiana",
   "metadata": {},
   "outputs": [],
   "source": [
    "def model_architecture_compilation():\n",
    "  print('model compilation...')\n",
    "  mobilenet = MobileNet(weights = 'imagenet', \n",
    "              include_top = False, \n",
    "              input_shape = INPUT_SHAPE)\n",
    "\n",
    "  for layer in mobilenet.layers:\n",
    "    layer.trainable = False\n",
    "\n",
    "  model = keras.models.Sequential()\n",
    "  model.add(mobilenet)\n",
    "  model.add(Flatten())\n",
    "  model.add(Dense(256, activation = 'relu'))\n",
    "  model.add(BatchNormalization())\n",
    "  model.add(Dropout(0.5))\n",
    "  model.add(Dense(128, activation = 'relu'))\n",
    "  model.add(BatchNormalization())\n",
    "  model.add(Dropout(0.5))\n",
    "  model.add(Dense(NUM_OF_CLASSES, activation = 'softmax'))\n",
    "\n",
    "  model.compile(optimizer='adam', loss='categorical_crossentropy', metrics=['accuracy'])\n",
    "\n",
    "  return model"
   ]
  },
  {
   "cell_type": "code",
   "execution_count": null,
   "id": "educated-spirit",
   "metadata": {},
   "outputs": [],
   "source": [
    "def model_training(model, train_generator, validation_generator):\n",
    "  history = model.fit(\n",
    "      train_generator,\n",
    "      steps_per_epoch = train_generator.samples // BATCH_SIZE,\n",
    "      validation_data = validation_generator, \n",
    "      validation_steps = validation_generator.samples // BATCH_SIZE,\n",
    "      epochs = EPOCHS,\n",
    "      workers=4)\n",
    "\n",
    "  model.save('land_classifier.h5')\n",
    "\n",
    "  return history, model"
   ]
  },
  {
   "cell_type": "code",
   "execution_count": null,
   "id": "functioning-clear",
   "metadata": {},
   "outputs": [],
   "source": [
    "def cf_matrix(predicted_labels, correct_labels):\n",
    "  cf_matrix = confusion_matrix(predicted_labels, correct_labels)\n",
    "  fig, ax = plt.subplots(figsize=(8, 6))\n",
    "  sns.heatmap(cf_matrix, cmap=\"YlGnBu\", annot=True, linewidths=.5, ax=ax, fmt=\".0f\")\n",
    "  plt.show()\n",
    "\n",
    "\n",
    "def cls_report(predicted_labels, correct_labels):\n",
    "  print(classification_report(predicted_labels, correct_labels))"
   ]
  },
  {
   "cell_type": "code",
   "execution_count": null,
   "id": "arabic-canon",
   "metadata": {},
   "outputs": [],
   "source": [
    "def model_evaluation(test_data):\n",
    "  trained_model = keras.models.load_model('models/land_classifier_vgg16.h5')\n",
    "  overall_result = trained_model.evaluate(test_data)\n",
    "  print(dict(zip(trained_model.metrics_names, overall_result)))\n",
    "\n",
    "  y_pred = []  # store predicted labels\n",
    "  y_true = []  # store true labels\n",
    "\n",
    "  testing = []\n",
    "  counter = 0\n",
    "  actual = []\n",
    "  for folder in tqdm(os.listdir(VALIDATION_DATA_DIR)):\n",
    "    for image in os.listdir(VALIDATION_DATA_DIR + folder + '/'):\n",
    "      img = cv2.imread(VALIDATION_DATA_DIR + folder + '/' + image)\n",
    "      img = cv2.resize(img, (128, 128))\n",
    "      img = np.array(img)\n",
    "      img = img.reshape(1, 128, 128, 3)\n",
    "      # img = img.flatten()\n",
    "      img *= 255\n",
    "      predict = trained_model.predict(img)\n",
    "      # print(counter, 'actual: ', validation_generator.class_indices[folder],'  ', 'predicted: ', np.argmax(predict, axis=1))\n",
    "      testing.append(np.argmax(predict))\n",
    "      actual.append(test_data.class_indices[folder])\n",
    "      counter += 1\n",
    "    print(counter)\n",
    "\n",
    "  cf_matrix(actual, testing)\n",
    "  cls_report(actual, testing)"
   ]
  },
  {
   "cell_type": "code",
   "execution_count": null,
   "id": "laughing-watson",
   "metadata": {},
   "outputs": [],
   "source": [
    "def plot_accuracy(history):\n",
    "    plt.title(\"Accuracy Graph\")\n",
    "    plt.plot(history.history['accuracy'])\n",
    "    plt.plot(history.history['val_accuracy'])\n",
    "    plt.ylabel('accuracy')\n",
    "    plt.xlabel('epoch')\n",
    "    plt.legend(['train_accuracy', 'validation_accuracy'], loc='best')\n",
    "    plt.show()\n",
    "\n",
    "\n",
    "def plot_loss(history):\n",
    "    plt.title(\"Loss Graph\")\n",
    "    plt.plot(history.history['loss'])\n",
    "    plt.plot(history.history['val_loss'])\n",
    "    plt.ylabel('loss')\n",
    "    plt.xlabel('epoch')\n",
    "    plt.legend(['train_loss', 'validation_loss'], loc='best')\n",
    "    plt.show()"
   ]
  },
  {
   "cell_type": "code",
   "execution_count": null,
   "id": "plain-edmonton",
   "metadata": {},
   "outputs": [],
   "source": [
    "train_data, validation_data = data_generators()\n",
    "compiled_model = model_architecture_compilation()\n",
    "history, trained_model = model_training(compiled_model, train_data, validation_data)\n",
    "plot_accuracy(history)\n",
    "plot_loss(history)\n",
    "model_evaluation(validation_data)"
   ]
  }
 ],
 "metadata": {
  "kernelspec": {
   "display_name": "Python 3",
   "language": "python",
   "name": "python3"
  },
  "language_info": {
   "codemirror_mode": {
    "name": "ipython",
    "version": 3
   },
   "file_extension": ".py",
   "mimetype": "text/x-python",
   "name": "python",
   "nbconvert_exporter": "python",
   "pygments_lexer": "ipython3",
   "version": "3.8.10"
  }
 },
 "nbformat": 4,
 "nbformat_minor": 5
}
